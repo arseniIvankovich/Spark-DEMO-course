{
 "cells": [
  {
   "cell_type": "markdown",
   "id": "trained-moses",
   "metadata": {},
   "source": [
    "import libraries(I provide all libs that I need when make this tasks, if you need some external import them here)"
   ]
  },
  {
   "cell_type": "code",
   "execution_count": 5,
   "id": "induced-african",
   "metadata": {},
   "outputs": [],
   "source": [
    "import findspark\n",
    "findspark.init()"
   ]
  },
  {
   "cell_type": "code",
   "execution_count": 6,
   "id": "5b570709",
   "metadata": {},
   "outputs": [],
   "source": [
    "import pyspark\n",
    "from pyspark.sql import SparkSession\n",
    "from pyspark.sql.types import StructType, StructField, IntegerType, StringType, FloatType\n",
    "from pyspark.sql.functions import col\n",
    "from pyspark.sql.functions import max, avg, min\n",
    "from pyspark.sql.window import Window\n",
    "from pyspark.sql.functions import row_number\n",
    "from pyspark.sql.functions import when"
   ]
  },
  {
   "cell_type": "markdown",
   "id": "permanent-photographer",
   "metadata": {},
   "source": [
    "create local SparkSession"
   ]
  },
  {
   "cell_type": "code",
   "execution_count": 7,
   "id": "stock-partnership",
   "metadata": {},
   "outputs": [],
   "source": [
    "spark = SparkSession.builder.getOrCreate()"
   ]
  },
  {
   "cell_type": "code",
   "execution_count": 8,
   "id": "27797b98",
   "metadata": {},
   "outputs": [
    {
     "data": {
      "text/html": [
       "\n",
       "            <div>\n",
       "                <p><b>SparkSession - in-memory</b></p>\n",
       "                \n",
       "        <div>\n",
       "            <p><b>SparkContext</b></p>\n",
       "\n",
       "            <p><a href=\"http://10.202.46.32:4040\">Spark UI</a></p>\n",
       "\n",
       "            <dl>\n",
       "              <dt>Version</dt>\n",
       "                <dd><code>v3.5.1</code></dd>\n",
       "              <dt>Master</dt>\n",
       "                <dd><code>local[*]</code></dd>\n",
       "              <dt>AppName</dt>\n",
       "                <dd><code>pyspark-shell</code></dd>\n",
       "            </dl>\n",
       "        </div>\n",
       "        \n",
       "            </div>\n",
       "        "
      ],
      "text/plain": [
       "<pyspark.sql.session.SparkSession at 0x751068761d80>"
      ]
     },
     "execution_count": 8,
     "metadata": {},
     "output_type": "execute_result"
    }
   ],
   "source": [
    "spark"
   ]
  },
  {
   "cell_type": "markdown",
   "id": "juvenile-blame",
   "metadata": {},
   "source": [
    "read csv with inferschema"
   ]
  },
  {
   "cell_type": "code",
   "execution_count": 9,
   "id": "computational-liverpool",
   "metadata": {},
   "outputs": [],
   "source": [
    "df = spark.read.csv(\n",
    "   \"ds_salaries.csv\",\n",
    "   header = True,\n",
    "   inferSchema = True\n",
    "    )"
   ]
  },
  {
   "cell_type": "markdown",
   "id": "stopped-dominant",
   "metadata": {},
   "source": [
    "read csv one more time with the same code and you will see that it almostly don't take time, because info already in SparkSession and it will not read nothing\n",
    "from this file"
   ]
  },
  {
   "cell_type": "code",
   "execution_count": 10,
   "id": "aging-neighborhood",
   "metadata": {},
   "outputs": [
    {
     "data": {
      "text/plain": [
       "DataFrame[id: int, work_year: int, experience_level: string, employment_type: string, job_title: string, salary: int, salary_currency: string, salary_in_usd: int, employee_residence: string, remote_ratio: int, company_location: string, company_size: string]"
      ]
     },
     "execution_count": 10,
     "metadata": {},
     "output_type": "execute_result"
    }
   ],
   "source": [
    "spark.read.format(\"csv\").options(header = True,inferSchema = True ).load(\"ds_salaries.csv\")"
   ]
  },
  {
   "cell_type": "markdown",
   "id": "mature-tomorrow",
   "metadata": {},
   "source": [
    "write schema of scv on screen"
   ]
  },
  {
   "cell_type": "code",
   "execution_count": 11,
   "id": "least-communications",
   "metadata": {},
   "outputs": [
    {
     "name": "stdout",
     "output_type": "stream",
     "text": [
      "root\n",
      " |-- id: integer (nullable = true)\n",
      " |-- work_year: integer (nullable = true)\n",
      " |-- experience_level: string (nullable = true)\n",
      " |-- employment_type: string (nullable = true)\n",
      " |-- job_title: string (nullable = true)\n",
      " |-- salary: integer (nullable = true)\n",
      " |-- salary_currency: string (nullable = true)\n",
      " |-- salary_in_usd: integer (nullable = true)\n",
      " |-- employee_residence: string (nullable = true)\n",
      " |-- remote_ratio: integer (nullable = true)\n",
      " |-- company_location: string (nullable = true)\n",
      " |-- company_size: string (nullable = true)\n",
      "\n"
     ]
    }
   ],
   "source": [
    "df.printSchema()"
   ]
  },
  {
   "cell_type": "markdown",
   "id": "connected-brother",
   "metadata": {},
   "source": [
    "create schema of this scv"
   ]
  },
  {
   "cell_type": "code",
   "execution_count": 12,
   "id": "progressive-dictionary",
   "metadata": {},
   "outputs": [],
   "source": [
    "schema =  StructType([\\\n",
    "    StructField('id', IntegerType(),False), \\\n",
    "    StructField('work_year', IntegerType(),False), \\\n",
    "    StructField('experience_level', StringType(),False), \\\n",
    "    StructField('employment_type', StringType(),False), \\\n",
    "    StructField('job_title', StringType(),False), \\\n",
    "    StructField('salary', FloatType(),False), \\\n",
    "    StructField('salary_currency', StringType(),False), \\\n",
    "    StructField('salary_in_usd', FloatType(),False), \\\n",
    "    StructField('employee_residence', StringType(),False), \\\n",
    "    StructField('remote_ratio', IntegerType(),False), \\\n",
    "    StructField('company_location', StringType(),False), \\\n",
    "    StructField('company_size', StringType(),False) \\\n",
    "])"
   ]
  },
  {
   "cell_type": "markdown",
   "id": "auburn-sauce",
   "metadata": {},
   "source": [
    "restart kernel without cleaning output and after restarting you need to initialize SparkSession, after initialize start execute only cells from cell with schema=\n",
    "=StructType.... \n",
    "To restart kernel click Kernel, Restart."
   ]
  },
  {
   "cell_type": "markdown",
   "id": "artistic-hospital",
   "metadata": {},
   "source": [
    "read ds_salaries with predefined schema and compare results from this cell and cell with inferSchema"
   ]
  },
  {
   "cell_type": "code",
   "execution_count": 13,
   "id": "literary-plaintiff",
   "metadata": {},
   "outputs": [],
   "source": [
    "df = spark.read.csv(\n",
    "   \"ds_salaries.csv\",\n",
    "   header = True,\n",
    "   schema = schema\n",
    "    )"
   ]
  },
  {
   "cell_type": "markdown",
   "id": "senior-joint",
   "metadata": {},
   "source": [
    "this happens because read operation is lazy(transformation), but if you use inferschema it start to be action that will create Spark Job, because Spark need to loop throw all file to check datatypes for all columns and this can harm to your code(if we compare to parquet, it will also go to check data types, but parquet provide meta information, so Spark will not go throw all file, he will just read meta information, but csv don't provide such meta information). Also header make Spark to create one more Spark Job to check first line\n",
    "to define name of columns and remember to skeep it when reading. Actual reading start when you will use first action. More about Spark Jobs you will see in next topic"
   ]
  },
  {
   "cell_type": "markdown",
   "id": "underlying-assurance",
   "metadata": {},
   "source": [
    "write schema of scv on screen one more time and compare with previous"
   ]
  },
  {
   "cell_type": "code",
   "execution_count": 14,
   "id": "solid-infection",
   "metadata": {},
   "outputs": [
    {
     "name": "stdout",
     "output_type": "stream",
     "text": [
      "root\n",
      " |-- id: integer (nullable = true)\n",
      " |-- work_year: integer (nullable = true)\n",
      " |-- experience_level: string (nullable = true)\n",
      " |-- employment_type: string (nullable = true)\n",
      " |-- job_title: string (nullable = true)\n",
      " |-- salary: float (nullable = true)\n",
      " |-- salary_currency: string (nullable = true)\n",
      " |-- salary_in_usd: float (nullable = true)\n",
      " |-- employee_residence: string (nullable = true)\n",
      " |-- remote_ratio: integer (nullable = true)\n",
      " |-- company_location: string (nullable = true)\n",
      " |-- company_size: string (nullable = true)\n",
      "\n"
     ]
    }
   ],
   "source": [
    "df.printSchema()"
   ]
  },
  {
   "cell_type": "markdown",
   "id": "close-water",
   "metadata": {},
   "source": [
    "now continue to work with one of the dataframes that you create"
   ]
  },
  {
   "cell_type": "markdown",
   "id": "piano-belgium",
   "metadata": {},
   "source": [
    "print data in dataframe using df.show"
   ]
  },
  {
   "cell_type": "code",
   "execution_count": 15,
   "id": "legendary-alarm",
   "metadata": {},
   "outputs": [
    {
     "name": "stdout",
     "output_type": "stream",
     "text": [
      "+---+---------+----------------+---------------+--------------------+---------+---------------+-------------+------------------+------------+----------------+------------+\n",
      "| id|work_year|experience_level|employment_type|           job_title|   salary|salary_currency|salary_in_usd|employee_residence|remote_ratio|company_location|company_size|\n",
      "+---+---------+----------------+---------------+--------------------+---------+---------------+-------------+------------------+------------+----------------+------------+\n",
      "|  0|     2020|              MI|             FT|      Data Scientist|  70000.0|            EUR|      79833.0|                DE|           0|              DE|           L|\n",
      "|  1|     2020|              SE|             FT|Machine Learning ...| 260000.0|            USD|     260000.0|                JP|           0|              JP|           S|\n",
      "|  2|     2020|              SE|             FT|   Big Data Engineer|  85000.0|            GBP|     109024.0|                GB|          50|              GB|           M|\n",
      "|  3|     2020|              MI|             FT|Product Data Analyst|  20000.0|            USD|      20000.0|                HN|           0|              HN|           S|\n",
      "|  4|     2020|              SE|             FT|Machine Learning ...| 150000.0|            USD|     150000.0|                US|          50|              US|           L|\n",
      "|  5|     2020|              EN|             FT|        Data Analyst|  72000.0|            USD|      72000.0|                US|         100|              US|           L|\n",
      "|  6|     2020|              SE|             FT| Lead Data Scientist| 190000.0|            USD|     190000.0|                US|         100|              US|           S|\n",
      "|  7|     2020|              MI|             FT|      Data Scientist|    1.1E7|            HUF|      35735.0|                HU|          50|              HU|           L|\n",
      "|  8|     2020|              MI|             FT|Business Data Ana...| 135000.0|            USD|     135000.0|                US|         100|              US|           L|\n",
      "|  9|     2020|              SE|             FT|  Lead Data Engineer| 125000.0|            USD|     125000.0|                NZ|          50|              NZ|           S|\n",
      "| 10|     2020|              EN|             FT|      Data Scientist|  45000.0|            EUR|      51321.0|                FR|           0|              FR|           S|\n",
      "| 11|     2020|              MI|             FT|      Data Scientist|3000000.0|            INR|      40481.0|                IN|           0|              IN|           L|\n",
      "| 12|     2020|              EN|             FT|      Data Scientist|  35000.0|            EUR|      39916.0|                FR|           0|              FR|           M|\n",
      "| 13|     2020|              MI|             FT|   Lead Data Analyst|  87000.0|            USD|      87000.0|                US|         100|              US|           L|\n",
      "| 14|     2020|              MI|             FT|        Data Analyst|  85000.0|            USD|      85000.0|                US|         100|              US|           L|\n",
      "| 15|     2020|              MI|             FT|        Data Analyst|   8000.0|            USD|       8000.0|                PK|          50|              PK|           L|\n",
      "| 16|     2020|              EN|             FT|       Data Engineer|4450000.0|            JPY|      41689.0|                JP|         100|              JP|           S|\n",
      "| 17|     2020|              SE|             FT|   Big Data Engineer| 100000.0|            EUR|     114047.0|                PL|         100|              GB|           S|\n",
      "| 18|     2020|              EN|             FT|Data Science Cons...| 423000.0|            INR|       5707.0|                IN|          50|              IN|           M|\n",
      "| 19|     2020|              MI|             FT|  Lead Data Engineer|  56000.0|            USD|      56000.0|                PT|         100|              US|           M|\n",
      "+---+---------+----------------+---------------+--------------------+---------+---------------+-------------+------------------+------------+----------------+------------+\n",
      "only showing top 20 rows\n",
      "\n"
     ]
    }
   ],
   "source": [
    "df.show()"
   ]
  },
  {
   "cell_type": "markdown",
   "id": "tamil-medium",
   "metadata": {},
   "source": [
    "print data in dataframe using display(df.toPandas())"
   ]
  },
  {
   "cell_type": "code",
   "execution_count": 16,
   "id": "connected-dryer",
   "metadata": {},
   "outputs": [
    {
     "data": {
      "text/html": [
       "<div>\n",
       "<style scoped>\n",
       "    .dataframe tbody tr th:only-of-type {\n",
       "        vertical-align: middle;\n",
       "    }\n",
       "\n",
       "    .dataframe tbody tr th {\n",
       "        vertical-align: top;\n",
       "    }\n",
       "\n",
       "    .dataframe thead th {\n",
       "        text-align: right;\n",
       "    }\n",
       "</style>\n",
       "<table border=\"1\" class=\"dataframe\">\n",
       "  <thead>\n",
       "    <tr style=\"text-align: right;\">\n",
       "      <th></th>\n",
       "      <th>id</th>\n",
       "      <th>work_year</th>\n",
       "      <th>experience_level</th>\n",
       "      <th>employment_type</th>\n",
       "      <th>job_title</th>\n",
       "      <th>salary</th>\n",
       "      <th>salary_currency</th>\n",
       "      <th>salary_in_usd</th>\n",
       "      <th>employee_residence</th>\n",
       "      <th>remote_ratio</th>\n",
       "      <th>company_location</th>\n",
       "      <th>company_size</th>\n",
       "    </tr>\n",
       "  </thead>\n",
       "  <tbody>\n",
       "    <tr>\n",
       "      <th>0</th>\n",
       "      <td>0</td>\n",
       "      <td>2020</td>\n",
       "      <td>MI</td>\n",
       "      <td>FT</td>\n",
       "      <td>Data Scientist</td>\n",
       "      <td>70000.0</td>\n",
       "      <td>EUR</td>\n",
       "      <td>79833.0</td>\n",
       "      <td>DE</td>\n",
       "      <td>0</td>\n",
       "      <td>DE</td>\n",
       "      <td>L</td>\n",
       "    </tr>\n",
       "    <tr>\n",
       "      <th>1</th>\n",
       "      <td>1</td>\n",
       "      <td>2020</td>\n",
       "      <td>SE</td>\n",
       "      <td>FT</td>\n",
       "      <td>Machine Learning Scientist</td>\n",
       "      <td>260000.0</td>\n",
       "      <td>USD</td>\n",
       "      <td>260000.0</td>\n",
       "      <td>JP</td>\n",
       "      <td>0</td>\n",
       "      <td>JP</td>\n",
       "      <td>S</td>\n",
       "    </tr>\n",
       "    <tr>\n",
       "      <th>2</th>\n",
       "      <td>2</td>\n",
       "      <td>2020</td>\n",
       "      <td>SE</td>\n",
       "      <td>FT</td>\n",
       "      <td>Big Data Engineer</td>\n",
       "      <td>85000.0</td>\n",
       "      <td>GBP</td>\n",
       "      <td>109024.0</td>\n",
       "      <td>GB</td>\n",
       "      <td>50</td>\n",
       "      <td>GB</td>\n",
       "      <td>M</td>\n",
       "    </tr>\n",
       "    <tr>\n",
       "      <th>3</th>\n",
       "      <td>3</td>\n",
       "      <td>2020</td>\n",
       "      <td>MI</td>\n",
       "      <td>FT</td>\n",
       "      <td>Product Data Analyst</td>\n",
       "      <td>20000.0</td>\n",
       "      <td>USD</td>\n",
       "      <td>20000.0</td>\n",
       "      <td>HN</td>\n",
       "      <td>0</td>\n",
       "      <td>HN</td>\n",
       "      <td>S</td>\n",
       "    </tr>\n",
       "    <tr>\n",
       "      <th>4</th>\n",
       "      <td>4</td>\n",
       "      <td>2020</td>\n",
       "      <td>SE</td>\n",
       "      <td>FT</td>\n",
       "      <td>Machine Learning Engineer</td>\n",
       "      <td>150000.0</td>\n",
       "      <td>USD</td>\n",
       "      <td>150000.0</td>\n",
       "      <td>US</td>\n",
       "      <td>50</td>\n",
       "      <td>US</td>\n",
       "      <td>L</td>\n",
       "    </tr>\n",
       "    <tr>\n",
       "      <th>...</th>\n",
       "      <td>...</td>\n",
       "      <td>...</td>\n",
       "      <td>...</td>\n",
       "      <td>...</td>\n",
       "      <td>...</td>\n",
       "      <td>...</td>\n",
       "      <td>...</td>\n",
       "      <td>...</td>\n",
       "      <td>...</td>\n",
       "      <td>...</td>\n",
       "      <td>...</td>\n",
       "      <td>...</td>\n",
       "    </tr>\n",
       "    <tr>\n",
       "      <th>602</th>\n",
       "      <td>602</td>\n",
       "      <td>2022</td>\n",
       "      <td>SE</td>\n",
       "      <td>FT</td>\n",
       "      <td>Data Engineer</td>\n",
       "      <td>154000.0</td>\n",
       "      <td>USD</td>\n",
       "      <td>154000.0</td>\n",
       "      <td>US</td>\n",
       "      <td>100</td>\n",
       "      <td>US</td>\n",
       "      <td>M</td>\n",
       "    </tr>\n",
       "    <tr>\n",
       "      <th>603</th>\n",
       "      <td>603</td>\n",
       "      <td>2022</td>\n",
       "      <td>SE</td>\n",
       "      <td>FT</td>\n",
       "      <td>Data Engineer</td>\n",
       "      <td>126000.0</td>\n",
       "      <td>USD</td>\n",
       "      <td>126000.0</td>\n",
       "      <td>US</td>\n",
       "      <td>100</td>\n",
       "      <td>US</td>\n",
       "      <td>M</td>\n",
       "    </tr>\n",
       "    <tr>\n",
       "      <th>604</th>\n",
       "      <td>604</td>\n",
       "      <td>2022</td>\n",
       "      <td>SE</td>\n",
       "      <td>FT</td>\n",
       "      <td>Data Analyst</td>\n",
       "      <td>129000.0</td>\n",
       "      <td>USD</td>\n",
       "      <td>129000.0</td>\n",
       "      <td>US</td>\n",
       "      <td>0</td>\n",
       "      <td>US</td>\n",
       "      <td>M</td>\n",
       "    </tr>\n",
       "    <tr>\n",
       "      <th>605</th>\n",
       "      <td>605</td>\n",
       "      <td>2022</td>\n",
       "      <td>SE</td>\n",
       "      <td>FT</td>\n",
       "      <td>Data Analyst</td>\n",
       "      <td>150000.0</td>\n",
       "      <td>USD</td>\n",
       "      <td>150000.0</td>\n",
       "      <td>US</td>\n",
       "      <td>100</td>\n",
       "      <td>US</td>\n",
       "      <td>M</td>\n",
       "    </tr>\n",
       "    <tr>\n",
       "      <th>606</th>\n",
       "      <td>606</td>\n",
       "      <td>2022</td>\n",
       "      <td>MI</td>\n",
       "      <td>FT</td>\n",
       "      <td>AI Scientist</td>\n",
       "      <td>200000.0</td>\n",
       "      <td>USD</td>\n",
       "      <td>200000.0</td>\n",
       "      <td>IN</td>\n",
       "      <td>100</td>\n",
       "      <td>US</td>\n",
       "      <td>L</td>\n",
       "    </tr>\n",
       "  </tbody>\n",
       "</table>\n",
       "<p>607 rows × 12 columns</p>\n",
       "</div>"
      ],
      "text/plain": [
       "      id  work_year experience_level employment_type  \\\n",
       "0      0       2020               MI              FT   \n",
       "1      1       2020               SE              FT   \n",
       "2      2       2020               SE              FT   \n",
       "3      3       2020               MI              FT   \n",
       "4      4       2020               SE              FT   \n",
       "..   ...        ...              ...             ...   \n",
       "602  602       2022               SE              FT   \n",
       "603  603       2022               SE              FT   \n",
       "604  604       2022               SE              FT   \n",
       "605  605       2022               SE              FT   \n",
       "606  606       2022               MI              FT   \n",
       "\n",
       "                      job_title    salary salary_currency  salary_in_usd  \\\n",
       "0                Data Scientist   70000.0             EUR        79833.0   \n",
       "1    Machine Learning Scientist  260000.0             USD       260000.0   \n",
       "2             Big Data Engineer   85000.0             GBP       109024.0   \n",
       "3          Product Data Analyst   20000.0             USD        20000.0   \n",
       "4     Machine Learning Engineer  150000.0             USD       150000.0   \n",
       "..                          ...       ...             ...            ...   \n",
       "602               Data Engineer  154000.0             USD       154000.0   \n",
       "603               Data Engineer  126000.0             USD       126000.0   \n",
       "604                Data Analyst  129000.0             USD       129000.0   \n",
       "605                Data Analyst  150000.0             USD       150000.0   \n",
       "606                AI Scientist  200000.0             USD       200000.0   \n",
       "\n",
       "    employee_residence  remote_ratio company_location company_size  \n",
       "0                   DE             0               DE            L  \n",
       "1                   JP             0               JP            S  \n",
       "2                   GB            50               GB            M  \n",
       "3                   HN             0               HN            S  \n",
       "4                   US            50               US            L  \n",
       "..                 ...           ...              ...          ...  \n",
       "602                 US           100               US            M  \n",
       "603                 US           100               US            M  \n",
       "604                 US             0               US            M  \n",
       "605                 US           100               US            M  \n",
       "606                 IN           100               US            L  \n",
       "\n",
       "[607 rows x 12 columns]"
      ]
     },
     "execution_count": 16,
     "metadata": {},
     "output_type": "execute_result"
    }
   ],
   "source": [
    "df.toPandas()"
   ]
  },
  {
   "cell_type": "markdown",
   "id": "opponent-gazette",
   "metadata": {},
   "source": [
    "create df_job_title that consists from all job_titles without duplicates"
   ]
  },
  {
   "cell_type": "code",
   "execution_count": 17,
   "id": "friendly-cartridge",
   "metadata": {},
   "outputs": [],
   "source": [
    "df_job_title = df.select(col(\"job_title\")).distinct()"
   ]
  },
  {
   "cell_type": "markdown",
   "id": "offshore-architecture",
   "metadata": {},
   "source": [
    "print all rows from df_job_titles without truncating jobs"
   ]
  },
  {
   "cell_type": "code",
   "execution_count": 18,
   "id": "asian-edition",
   "metadata": {},
   "outputs": [
    {
     "name": "stdout",
     "output_type": "stream",
     "text": [
      "+----------------------------------------+\n",
      "|job_title                               |\n",
      "+----------------------------------------+\n",
      "|3D Computer Vision Researcher           |\n",
      "|Lead Data Engineer                      |\n",
      "|Head of Machine Learning                |\n",
      "|Data Specialist                         |\n",
      "|Data Analytics Lead                     |\n",
      "|Machine Learning Scientist              |\n",
      "|Lead Data Analyst                       |\n",
      "|Data Engineering Manager                |\n",
      "|Staff Data Scientist                    |\n",
      "|ETL Developer                           |\n",
      "|Director of Data Engineering            |\n",
      "|Product Data Analyst                    |\n",
      "|Principal Data Scientist                |\n",
      "|AI Scientist                            |\n",
      "|Director of Data Science                |\n",
      "|Machine Learning Engineer               |\n",
      "|Lead Data Scientist                     |\n",
      "|Machine Learning Infrastructure Engineer|\n",
      "|Data Science Engineer                   |\n",
      "|Machine Learning Manager                |\n",
      "|Research Scientist                      |\n",
      "|Head of Data                            |\n",
      "|Cloud Data Engineer                     |\n",
      "|Machine Learning Developer              |\n",
      "|Data Scientist                          |\n",
      "|Finance Data Analyst                    |\n",
      "|Data Analyst                            |\n",
      "|Data Analytics Engineer                 |\n",
      "|Data Science Consultant                 |\n",
      "|Principal Data Engineer                 |\n",
      "|Lead Machine Learning Engineer          |\n",
      "|ML Engineer                             |\n",
      "|Analytics Engineer                      |\n",
      "|Data Science Manager                    |\n",
      "|Business Data Analyst                   |\n",
      "|Principal Data Analyst                  |\n",
      "|Applied Machine Learning Scientist      |\n",
      "|Financial Data Analyst                  |\n",
      "|Data Analytics Manager                  |\n",
      "|Computer Vision Engineer                |\n",
      "|Computer Vision Software Engineer       |\n",
      "|Big Data Engineer                       |\n",
      "|Head of Data Science                    |\n",
      "|NLP Engineer                            |\n",
      "|Big Data Architect                      |\n",
      "|Applied Data Scientist                  |\n",
      "|Data Architect                          |\n",
      "|BI Data Analyst                         |\n",
      "|Marketing Data Analyst                  |\n",
      "|Data Engineer                           |\n",
      "+----------------------------------------+\n",
      "\n"
     ]
    }
   ],
   "source": [
    "df_job_title.show(df_job_title.count(),truncate=False)"
   ]
  },
  {
   "cell_type": "markdown",
   "id": "interim-pharmacy",
   "metadata": {},
   "source": [
    "create  df_analytic that will consists from max, avg, min USD salaries for all job_titles using groupBy. name of fields is avg_salary, min_salary, max_salary"
   ]
  },
  {
   "cell_type": "code",
   "execution_count": 19,
   "id": "naval-roller",
   "metadata": {},
   "outputs": [],
   "source": [
    "df_analytic = df.groupby(\"job_title\").agg(\n",
    "    avg(\"salary_in_usd\").alias(\"avg_salary\"),\n",
    "    min(\"salary_in_usd\").alias(\"min_salary\"),\n",
    "    max(\"salary_in_usd\").alias(\"max_salary\")\n",
    ")"
   ]
  },
  {
   "cell_type": "markdown",
   "id": "french-pledge",
   "metadata": {},
   "source": [
    "print all rows from df_analytic without trancating jobs"
   ]
  },
  {
   "cell_type": "code",
   "execution_count": 20,
   "id": "bacterial-depression",
   "metadata": {},
   "outputs": [
    {
     "name": "stdout",
     "output_type": "stream",
     "text": [
      "+----------------------------------------+------------------+----------+----------+\n",
      "|job_title                               |avg_salary        |min_salary|max_salary|\n",
      "+----------------------------------------+------------------+----------+----------+\n",
      "|3D Computer Vision Researcher           |5409.0            |5409.0    |5409.0    |\n",
      "|Lead Data Engineer                      |139724.5          |56000.0   |276000.0  |\n",
      "|Head of Machine Learning                |79039.0           |79039.0   |79039.0   |\n",
      "|Data Specialist                         |165000.0          |165000.0  |165000.0  |\n",
      "|Data Analytics Lead                     |405000.0          |405000.0  |405000.0  |\n",
      "|Machine Learning Scientist              |158412.5          |12000.0   |260000.0  |\n",
      "|Lead Data Analyst                       |92203.0           |19609.0   |170000.0  |\n",
      "|Data Engineering Manager                |123227.2          |59303.0   |174000.0  |\n",
      "|Staff Data Scientist                    |105000.0          |105000.0  |105000.0  |\n",
      "|ETL Developer                           |54957.0           |54957.0   |54957.0   |\n",
      "|Director of Data Engineering            |156738.0          |113476.0  |200000.0  |\n",
      "|Product Data Analyst                    |13036.0           |6072.0    |20000.0   |\n",
      "|Principal Data Scientist                |215242.42857142858|148261.0  |416000.0  |\n",
      "|AI Scientist                            |66135.57142857143 |12000.0   |200000.0  |\n",
      "|Director of Data Science                |195074.0          |130026.0  |325000.0  |\n",
      "|Machine Learning Engineer               |104880.14634146342|20000.0   |250000.0  |\n",
      "|Lead Data Scientist                     |115190.0          |40570.0   |190000.0  |\n",
      "|Machine Learning Infrastructure Engineer|101145.0          |50180.0   |195000.0  |\n",
      "|Data Science Engineer                   |75803.33333333333 |40189.0   |127221.0  |\n",
      "|Machine Learning Manager                |117104.0          |117104.0  |117104.0  |\n",
      "|Research Scientist                      |109019.5          |42000.0   |450000.0  |\n",
      "|Head of Data                            |160162.6          |32974.0   |235000.0  |\n",
      "|Cloud Data Engineer                     |124647.0          |89294.0   |160000.0  |\n",
      "|Machine Learning Developer              |85860.66666666667 |78791.0   |100000.0  |\n",
      "|Data Scientist                          |108187.83216783217|2859.0    |412000.0  |\n",
      "|Finance Data Analyst                    |61896.0           |61896.0   |61896.0   |\n",
      "|Data Analyst                            |92893.06185567011 |6072.0    |200000.0  |\n",
      "|Data Analytics Engineer                 |64799.25          |20000.0   |110000.0  |\n",
      "|Data Science Consultant                 |69420.71428571429 |5707.0    |103000.0  |\n",
      "|Principal Data Engineer                 |328333.3333333333 |185000.0  |600000.0  |\n",
      "|Lead Machine Learning Engineer          |87932.0           |87932.0   |87932.0   |\n",
      "|ML Engineer                             |117504.0          |15966.0   |270000.0  |\n",
      "|Analytics Engineer                      |175000.0          |135000.0  |205300.0  |\n",
      "|Data Science Manager                    |158328.5          |54094.0   |241000.0  |\n",
      "|Business Data Analyst                   |76691.2           |18442.0   |135000.0  |\n",
      "|Principal Data Analyst                  |122500.0          |75000.0   |170000.0  |\n",
      "|Applied Machine Learning Scientist      |142068.75         |31875.0   |423000.0  |\n",
      "|Financial Data Analyst                  |275000.0          |100000.0  |450000.0  |\n",
      "|Data Analytics Manager                  |127134.28571428571|105400.0  |150260.0  |\n",
      "|Computer Vision Engineer                |44419.333333333336|10000.0   |125000.0  |\n",
      "|Computer Vision Software Engineer       |105248.66666666667|70000.0   |150000.0  |\n",
      "|Big Data Engineer                       |51974.0           |5882.0    |114047.0  |\n",
      "|Head of Data Science                    |146718.75         |85000.0   |224000.0  |\n",
      "|NLP Engineer                            |37236.0           |37236.0   |37236.0   |\n",
      "|Big Data Architect                      |99703.0           |99703.0   |99703.0   |\n",
      "|Applied Data Scientist                  |175655.0          |54238.0   |380000.0  |\n",
      "|Data Architect                          |177873.9090909091 |90700.0   |266400.0  |\n",
      "|BI Data Analyst                         |74755.16666666667 |9272.0    |150000.0  |\n",
      "|Marketing Data Analyst                  |88654.0           |88654.0   |88654.0   |\n",
      "|Data Engineer                           |112725.0          |4000.0    |324000.0  |\n",
      "+----------------------------------------+------------------+----------+----------+\n",
      "\n"
     ]
    }
   ],
   "source": [
    "df_analytic.show(df_analytic.count(),truncate=False)"
   ]
  },
  {
   "cell_type": "markdown",
   "id": "hazardous-color",
   "metadata": {},
   "source": [
    "now you need to add in df_analytic column row_id, that will show order of all job_titles depending on avg salary. they should be descending"
   ]
  },
  {
   "cell_type": "code",
   "execution_count": 21,
   "id": "nearby-treasurer",
   "metadata": {},
   "outputs": [],
   "source": [
    "window_row_number = Window.orderBy(col(\"avg_salary\").desc())\n",
    "\n",
    "df_analytic = df_analytic.withColumn(\"row_id\", row_number().over(window_row_number))"
   ]
  },
  {
   "cell_type": "markdown",
   "id": "documented-catalog",
   "metadata": {},
   "source": [
    "print all data from df_analytic"
   ]
  },
  {
   "cell_type": "code",
   "execution_count": 22,
   "id": "confirmed-monitoring",
   "metadata": {},
   "outputs": [
    {
     "name": "stderr",
     "output_type": "stream",
     "text": [
      "24/05/15 10:50:41 WARN WindowExec: No Partition Defined for Window operation! Moving all data to a single partition, this can cause serious performance degradation.\n",
      "24/05/15 10:50:41 WARN WindowExec: No Partition Defined for Window operation! Moving all data to a single partition, this can cause serious performance degradation.\n",
      "24/05/15 10:50:41 WARN WindowExec: No Partition Defined for Window operation! Moving all data to a single partition, this can cause serious performance degradation.\n",
      "24/05/15 10:50:41 WARN WindowExec: No Partition Defined for Window operation! Moving all data to a single partition, this can cause serious performance degradation.\n",
      "24/05/15 10:50:41 WARN WindowExec: No Partition Defined for Window operation! Moving all data to a single partition, this can cause serious performance degradation.\n",
      "24/05/15 10:50:41 WARN WindowExec: No Partition Defined for Window operation! Moving all data to a single partition, this can cause serious performance degradation.\n",
      "[Stage 32:>                                                         (0 + 1) / 1]\r"
     ]
    },
    {
     "name": "stdout",
     "output_type": "stream",
     "text": [
      "+----------------------------------------+------------------+----------+----------+------+\n",
      "|job_title                               |avg_salary        |min_salary|max_salary|row_id|\n",
      "+----------------------------------------+------------------+----------+----------+------+\n",
      "|Data Analytics Lead                     |405000.0          |405000.0  |405000.0  |1     |\n",
      "|Principal Data Engineer                 |328333.3333333333 |185000.0  |600000.0  |2     |\n",
      "|Financial Data Analyst                  |275000.0          |100000.0  |450000.0  |3     |\n",
      "|Principal Data Scientist                |215242.42857142858|148261.0  |416000.0  |4     |\n",
      "|Director of Data Science                |195074.0          |130026.0  |325000.0  |5     |\n",
      "|Data Architect                          |177873.9090909091 |90700.0   |266400.0  |6     |\n",
      "|Applied Data Scientist                  |175655.0          |54238.0   |380000.0  |7     |\n",
      "|Analytics Engineer                      |175000.0          |135000.0  |205300.0  |8     |\n",
      "|Data Specialist                         |165000.0          |165000.0  |165000.0  |9     |\n",
      "|Head of Data                            |160162.6          |32974.0   |235000.0  |10    |\n",
      "|Machine Learning Scientist              |158412.5          |12000.0   |260000.0  |11    |\n",
      "|Data Science Manager                    |158328.5          |54094.0   |241000.0  |12    |\n",
      "|Director of Data Engineering            |156738.0          |113476.0  |200000.0  |13    |\n",
      "|Head of Data Science                    |146718.75         |85000.0   |224000.0  |14    |\n",
      "|Applied Machine Learning Scientist      |142068.75         |31875.0   |423000.0  |15    |\n",
      "|Lead Data Engineer                      |139724.5          |56000.0   |276000.0  |16    |\n",
      "|Data Analytics Manager                  |127134.28571428571|105400.0  |150260.0  |17    |\n",
      "|Cloud Data Engineer                     |124647.0          |89294.0   |160000.0  |18    |\n",
      "|Data Engineering Manager                |123227.2          |59303.0   |174000.0  |19    |\n",
      "|Principal Data Analyst                  |122500.0          |75000.0   |170000.0  |20    |\n",
      "|ML Engineer                             |117504.0          |15966.0   |270000.0  |21    |\n",
      "|Machine Learning Manager                |117104.0          |117104.0  |117104.0  |22    |\n",
      "|Lead Data Scientist                     |115190.0          |40570.0   |190000.0  |23    |\n",
      "|Data Engineer                           |112725.0          |4000.0    |324000.0  |24    |\n",
      "|Research Scientist                      |109019.5          |42000.0   |450000.0  |25    |\n",
      "|Data Scientist                          |108187.83216783217|2859.0    |412000.0  |26    |\n",
      "|Computer Vision Software Engineer       |105248.66666666667|70000.0   |150000.0  |27    |\n",
      "|Staff Data Scientist                    |105000.0          |105000.0  |105000.0  |28    |\n",
      "|Machine Learning Engineer               |104880.14634146342|20000.0   |250000.0  |29    |\n",
      "|Machine Learning Infrastructure Engineer|101145.0          |50180.0   |195000.0  |30    |\n",
      "|Big Data Architect                      |99703.0           |99703.0   |99703.0   |31    |\n",
      "|Data Analyst                            |92893.06185567011 |6072.0    |200000.0  |32    |\n",
      "|Lead Data Analyst                       |92203.0           |19609.0   |170000.0  |33    |\n",
      "|Marketing Data Analyst                  |88654.0           |88654.0   |88654.0   |34    |\n",
      "|Lead Machine Learning Engineer          |87932.0           |87932.0   |87932.0   |35    |\n",
      "|Machine Learning Developer              |85860.66666666667 |78791.0   |100000.0  |36    |\n",
      "|Head of Machine Learning                |79039.0           |79039.0   |79039.0   |37    |\n",
      "|Business Data Analyst                   |76691.2           |18442.0   |135000.0  |38    |\n",
      "|Data Science Engineer                   |75803.33333333333 |40189.0   |127221.0  |39    |\n",
      "|BI Data Analyst                         |74755.16666666667 |9272.0    |150000.0  |40    |\n",
      "|Data Science Consultant                 |69420.71428571429 |5707.0    |103000.0  |41    |\n",
      "|AI Scientist                            |66135.57142857143 |12000.0   |200000.0  |42    |\n",
      "|Data Analytics Engineer                 |64799.25          |20000.0   |110000.0  |43    |\n",
      "|Finance Data Analyst                    |61896.0           |61896.0   |61896.0   |44    |\n",
      "|ETL Developer                           |54957.0           |54957.0   |54957.0   |45    |\n",
      "|Big Data Engineer                       |51974.0           |5882.0    |114047.0  |46    |\n",
      "|Computer Vision Engineer                |44419.333333333336|10000.0   |125000.0  |47    |\n",
      "|NLP Engineer                            |37236.0           |37236.0   |37236.0   |48    |\n",
      "|Product Data Analyst                    |13036.0           |6072.0    |20000.0   |49    |\n",
      "|3D Computer Vision Researcher           |5409.0            |5409.0    |5409.0    |50    |\n",
      "+----------------------------------------+------------------+----------+----------+------+\n",
      "\n"
     ]
    },
    {
     "name": "stderr",
     "output_type": "stream",
     "text": [
      "                                                                                \r"
     ]
    }
   ],
   "source": [
    "df_analytic.show(df_analytic.count(),truncate=False)"
   ]
  },
  {
   "cell_type": "markdown",
   "id": "satellite-quarter",
   "metadata": {},
   "source": [
    "it isn't beautifull, so we need to put now row_id on first place in df_analytic"
   ]
  },
  {
   "cell_type": "code",
   "execution_count": 23,
   "id": "ranging-tribune",
   "metadata": {},
   "outputs": [],
   "source": [
    "df_analytic = df_analytic.select(\"row_id\", \"job_title\", \"avg_salary\", \"min_salary\", \"max_salary\")"
   ]
  },
  {
   "cell_type": "markdown",
   "id": "reliable-amsterdam",
   "metadata": {},
   "source": [
    "print df_analytic now"
   ]
  },
  {
   "cell_type": "code",
   "execution_count": 24,
   "id": "classical-biology",
   "metadata": {},
   "outputs": [
    {
     "name": "stdout",
     "output_type": "stream",
     "text": [
      "+------+----------------------------------------+------------------+----------+----------+\n",
      "|row_id|job_title                               |avg_salary        |min_salary|max_salary|\n",
      "+------+----------------------------------------+------------------+----------+----------+\n",
      "|1     |Data Analytics Lead                     |405000.0          |405000.0  |405000.0  |\n",
      "|2     |Principal Data Engineer                 |328333.3333333333 |185000.0  |600000.0  |\n",
      "|3     |Financial Data Analyst                  |275000.0          |100000.0  |450000.0  |\n",
      "|4     |Principal Data Scientist                |215242.42857142858|148261.0  |416000.0  |\n",
      "|5     |Director of Data Science                |195074.0          |130026.0  |325000.0  |\n",
      "|6     |Data Architect                          |177873.9090909091 |90700.0   |266400.0  |\n",
      "|7     |Applied Data Scientist                  |175655.0          |54238.0   |380000.0  |\n",
      "|8     |Analytics Engineer                      |175000.0          |135000.0  |205300.0  |\n",
      "|9     |Data Specialist                         |165000.0          |165000.0  |165000.0  |\n",
      "|10    |Head of Data                            |160162.6          |32974.0   |235000.0  |\n",
      "|11    |Machine Learning Scientist              |158412.5          |12000.0   |260000.0  |\n",
      "|12    |Data Science Manager                    |158328.5          |54094.0   |241000.0  |\n",
      "|13    |Director of Data Engineering            |156738.0          |113476.0  |200000.0  |\n",
      "|14    |Head of Data Science                    |146718.75         |85000.0   |224000.0  |\n",
      "|15    |Applied Machine Learning Scientist      |142068.75         |31875.0   |423000.0  |\n",
      "|16    |Lead Data Engineer                      |139724.5          |56000.0   |276000.0  |\n",
      "|17    |Data Analytics Manager                  |127134.28571428571|105400.0  |150260.0  |\n",
      "|18    |Cloud Data Engineer                     |124647.0          |89294.0   |160000.0  |\n",
      "|19    |Data Engineering Manager                |123227.2          |59303.0   |174000.0  |\n",
      "|20    |Principal Data Analyst                  |122500.0          |75000.0   |170000.0  |\n",
      "|21    |ML Engineer                             |117504.0          |15966.0   |270000.0  |\n",
      "|22    |Machine Learning Manager                |117104.0          |117104.0  |117104.0  |\n",
      "|23    |Lead Data Scientist                     |115190.0          |40570.0   |190000.0  |\n",
      "|24    |Data Engineer                           |112725.0          |4000.0    |324000.0  |\n",
      "|25    |Research Scientist                      |109019.5          |42000.0   |450000.0  |\n",
      "|26    |Data Scientist                          |108187.83216783217|2859.0    |412000.0  |\n",
      "|27    |Computer Vision Software Engineer       |105248.66666666667|70000.0   |150000.0  |\n",
      "|28    |Staff Data Scientist                    |105000.0          |105000.0  |105000.0  |\n",
      "|29    |Machine Learning Engineer               |104880.14634146342|20000.0   |250000.0  |\n",
      "|30    |Machine Learning Infrastructure Engineer|101145.0          |50180.0   |195000.0  |\n",
      "|31    |Big Data Architect                      |99703.0           |99703.0   |99703.0   |\n",
      "|32    |Data Analyst                            |92893.06185567011 |6072.0    |200000.0  |\n",
      "|33    |Lead Data Analyst                       |92203.0           |19609.0   |170000.0  |\n",
      "|34    |Marketing Data Analyst                  |88654.0           |88654.0   |88654.0   |\n",
      "|35    |Lead Machine Learning Engineer          |87932.0           |87932.0   |87932.0   |\n",
      "|36    |Machine Learning Developer              |85860.66666666667 |78791.0   |100000.0  |\n",
      "|37    |Head of Machine Learning                |79039.0           |79039.0   |79039.0   |\n",
      "|38    |Business Data Analyst                   |76691.2           |18442.0   |135000.0  |\n",
      "|39    |Data Science Engineer                   |75803.33333333333 |40189.0   |127221.0  |\n",
      "|40    |BI Data Analyst                         |74755.16666666667 |9272.0    |150000.0  |\n",
      "|41    |Data Science Consultant                 |69420.71428571429 |5707.0    |103000.0  |\n",
      "|42    |AI Scientist                            |66135.57142857143 |12000.0   |200000.0  |\n",
      "|43    |Data Analytics Engineer                 |64799.25          |20000.0   |110000.0  |\n",
      "|44    |Finance Data Analyst                    |61896.0           |61896.0   |61896.0   |\n",
      "|45    |ETL Developer                           |54957.0           |54957.0   |54957.0   |\n",
      "|46    |Big Data Engineer                       |51974.0           |5882.0    |114047.0  |\n",
      "|47    |Computer Vision Engineer                |44419.333333333336|10000.0   |125000.0  |\n",
      "|48    |NLP Engineer                            |37236.0           |37236.0   |37236.0   |\n",
      "|49    |Product Data Analyst                    |13036.0           |6072.0    |20000.0   |\n",
      "|50    |3D Computer Vision Researcher           |5409.0            |5409.0    |5409.0    |\n",
      "+------+----------------------------------------+------------------+----------+----------+\n",
      "\n"
     ]
    },
    {
     "name": "stderr",
     "output_type": "stream",
     "text": [
      "24/05/15 10:50:44 WARN WindowExec: No Partition Defined for Window operation! Moving all data to a single partition, this can cause serious performance degradation.\n",
      "24/05/15 10:50:44 WARN WindowExec: No Partition Defined for Window operation! Moving all data to a single partition, this can cause serious performance degradation.\n",
      "24/05/15 10:50:44 WARN WindowExec: No Partition Defined for Window operation! Moving all data to a single partition, this can cause serious performance degradation.\n",
      "24/05/15 10:50:44 WARN WindowExec: No Partition Defined for Window operation! Moving all data to a single partition, this can cause serious performance degradation.\n",
      "24/05/15 10:50:44 WARN WindowExec: No Partition Defined for Window operation! Moving all data to a single partition, this can cause serious performance degradation.\n",
      "24/05/15 10:50:44 WARN WindowExec: No Partition Defined for Window operation! Moving all data to a single partition, this can cause serious performance degradation.\n"
     ]
    }
   ],
   "source": [
    "df_analytic.show(df_analytic.count(),truncate=False)"
   ]
  },
  {
   "cell_type": "markdown",
   "id": "hybrid-queensland",
   "metadata": {},
   "source": [
    "here you need to create df_exp_lvl with the biggest usd_salary(biggest_salary) for each experience_level(you need to save all fields like in entire dataframe)"
   ]
  },
  {
   "cell_type": "code",
   "execution_count": 25,
   "id": "dental-wrist",
   "metadata": {},
   "outputs": [],
   "source": [
    "df_exp_lvl = df.groupBy(\"experience_level\").agg(max(\"salary_in_usd\").alias(\"biggest_salary\"))"
   ]
  },
  {
   "cell_type": "markdown",
   "id": "innovative-hierarchy",
   "metadata": {},
   "source": [
    "print here df_exp_lvl"
   ]
  },
  {
   "cell_type": "code",
   "execution_count": 26,
   "id": "standing-toilet",
   "metadata": {},
   "outputs": [
    {
     "name": "stdout",
     "output_type": "stream",
     "text": [
      "+----------------+--------------+\n",
      "|experience_level|biggest_salary|\n",
      "+----------------+--------------+\n",
      "|EX              |600000.0      |\n",
      "|MI              |450000.0      |\n",
      "|EN              |250000.0      |\n",
      "|SE              |412000.0      |\n",
      "+----------------+--------------+\n",
      "\n"
     ]
    }
   ],
   "source": [
    "df_exp_lvl.show(df_exp_lvl.count(),truncate=False)"
   ]
  },
  {
   "cell_type": "markdown",
   "id": "hawaiian-mortgage",
   "metadata": {},
   "source": [
    "create df_best that consists from rows where salary of guy same as biggest salary for other people in his exp_lvl and choose only columns: id, experience_level, biggest_salary, employee_residence"
   ]
  },
  {
   "cell_type": "code",
   "execution_count": 27,
   "id": "toxic-prompt",
   "metadata": {},
   "outputs": [],
   "source": [
    "df_best = df.select(\"id\", \"experience_level\", \"employee_residence\", col(\"salary_in_usd\").alias(\"biggest_salary\")).join(df_exp_lvl, [\"experience_level\",\"biggest_salary\"],\"inner\")\n",
    "df_best = df_best.select(\"id\", \"experience_level\", \"employee_residence\",\"biggest_salary\")"
   ]
  },
  {
   "cell_type": "markdown",
   "id": "complex-librarian",
   "metadata": {},
   "source": [
    "print df_best"
   ]
  },
  {
   "cell_type": "code",
   "execution_count": 28,
   "id": "smart-texas",
   "metadata": {},
   "outputs": [
    {
     "name": "stdout",
     "output_type": "stream",
     "text": [
      "+---+----------------+------------------+--------------+\n",
      "|id |experience_level|employee_residence|biggest_salary|\n",
      "+---+----------------+------------------+--------------+\n",
      "|33 |MI              |US                |450000.0      |\n",
      "|37 |EN              |US                |250000.0      |\n",
      "|63 |SE              |US                |412000.0      |\n",
      "|97 |MI              |US                |450000.0      |\n",
      "|252|EX              |US                |600000.0      |\n",
      "+---+----------------+------------------+--------------+\n",
      "\n"
     ]
    }
   ],
   "source": [
    "df_best.show(df_best.count(),truncate=False)"
   ]
  },
  {
   "cell_type": "markdown",
   "id": "integral-brass",
   "metadata": {},
   "source": [
    "drop duplicates if exist by experience_level"
   ]
  },
  {
   "cell_type": "code",
   "execution_count": 29,
   "id": "immune-marine",
   "metadata": {},
   "outputs": [],
   "source": [
    "df_best = df_best.dropDuplicates([\"experience_level\"])"
   ]
  },
  {
   "cell_type": "markdown",
   "id": "connected-credit",
   "metadata": {},
   "source": [
    "print df_best"
   ]
  },
  {
   "cell_type": "code",
   "execution_count": 30,
   "id": "specified-wellington",
   "metadata": {},
   "outputs": [
    {
     "name": "stdout",
     "output_type": "stream",
     "text": [
      "+---+----------------+------------------+--------------+\n",
      "|id |experience_level|employee_residence|biggest_salary|\n",
      "+---+----------------+------------------+--------------+\n",
      "|37 |EN              |US                |250000.0      |\n",
      "|252|EX              |US                |600000.0      |\n",
      "|33 |MI              |US                |450000.0      |\n",
      "|63 |SE              |US                |412000.0      |\n",
      "+---+----------------+------------------+--------------+\n",
      "\n"
     ]
    }
   ],
   "source": [
    "df_best.show(df_best.count(),truncate=False)"
   ]
  },
  {
   "cell_type": "markdown",
   "id": "facial-plant",
   "metadata": {},
   "source": [
    "create df_new_best from df_best without id, and make the next: when exp_level = MI we want middle, when SE we want senior, else Null"
   ]
  },
  {
   "cell_type": "code",
   "execution_count": 31,
   "id": "infinite-retail",
   "metadata": {},
   "outputs": [],
   "source": [
    "df_new_best = df_best.withColumn(\"experience_level\", when(col(\"experience_level\") == \"MI\",\"middle\")\n",
    "                                                                               .when(col(\"experience_level\") == \"SE\",\"senior\")\n",
    "                                                                               .otherwise(\"Null\")\n",
    "                                                                               )\n",
    "df_new_best = df_new_best.select(\"experience_level\",\"employee_residence\", \"biggest_salary\")"
   ]
  },
  {
   "cell_type": "markdown",
   "id": "changing-fairy",
   "metadata": {},
   "source": [
    "print df_new_best"
   ]
  },
  {
   "cell_type": "code",
   "execution_count": 32,
   "id": "endless-framework",
   "metadata": {},
   "outputs": [
    {
     "name": "stdout",
     "output_type": "stream",
     "text": [
      "+----------------+------------------+--------------+\n",
      "|experience_level|employee_residence|biggest_salary|\n",
      "+----------------+------------------+--------------+\n",
      "|Null            |US                |250000.0      |\n",
      "|Null            |US                |600000.0      |\n",
      "|middle          |US                |450000.0      |\n",
      "|senior          |US                |412000.0      |\n",
      "+----------------+------------------+--------------+\n",
      "\n"
     ]
    }
   ],
   "source": [
    "df_new_best.show(df_new_best.count(),truncate=False)"
   ]
  },
  {
   "cell_type": "markdown",
   "id": "mineral-status",
   "metadata": {},
   "source": [
    "write df_new_best like 1.csv and load then it to df_final"
   ]
  },
  {
   "cell_type": "code",
   "execution_count": 40,
   "id": "baking-progress",
   "metadata": {},
   "outputs": [],
   "source": [
    "df_new_best.write.options(header = True, delimiter=',').format(\"csv\").save(\"./df_new_best_csv\")\n",
    "\n",
    "#df_new_best.toPandas().to_csv(\"./df_new_best.csv\")\n"
   ]
  },
  {
   "cell_type": "code",
   "execution_count": 47,
   "id": "36dde23e",
   "metadata": {},
   "outputs": [],
   "source": [
    "df_final =  spark.read.csv(\n",
    "   \"df_new_best_csv/part-00000-3ec71c9e-afe2-4cb7-9d87-7d4aa06e9acb-c000.csv\",\n",
    "   header = True,\n",
    "   inferSchema = True\n",
    "    )"
   ]
  },
  {
   "cell_type": "markdown",
   "id": "vocal-shooting",
   "metadata": {},
   "source": [
    "print df_final"
   ]
  },
  {
   "cell_type": "code",
   "execution_count": 48,
   "id": "expired-viewer",
   "metadata": {},
   "outputs": [
    {
     "name": "stdout",
     "output_type": "stream",
     "text": [
      "+----------------+------------------+--------------+\n",
      "|experience_level|employee_residence|biggest_salary|\n",
      "+----------------+------------------+--------------+\n",
      "|Null            |US                |250000.0      |\n",
      "|Null            |US                |600000.0      |\n",
      "|middle          |US                |450000.0      |\n",
      "|senior          |US                |412000.0      |\n",
      "+----------------+------------------+--------------+\n",
      "\n"
     ]
    }
   ],
   "source": [
    "df_final.show(df_final.count(),truncate=False)"
   ]
  },
  {
   "cell_type": "markdown",
   "id": "nutritional-progress",
   "metadata": {},
   "source": [
    "filter df_final to delete experience_level where it Null, then join this table by biggest_salary(salary_in_usd) and employee_residence with entire df"
   ]
  },
  {
   "cell_type": "code",
   "execution_count": 35,
   "id": "small-polymer",
   "metadata": {},
   "outputs": [],
   "source": [
    "df_final = df_final.select(\"experience_level\", \"employee_residence\", col(\"biggest_salary\").alias(\"salary_in_usd\")) \\\n",
    ".filter(col(\"experience_level\") != \"Null\").join(df, [\"salary_in_usd\",\"employee_residence\"], \"inner\")"
   ]
  },
  {
   "cell_type": "markdown",
   "id": "variable-twins",
   "metadata": {},
   "source": [
    "print df_final"
   ]
  },
  {
   "cell_type": "code",
   "execution_count": 36,
   "id": "generic-block",
   "metadata": {},
   "outputs": [
    {
     "name": "stdout",
     "output_type": "stream",
     "text": [
      "+-------------+------------------+----------------+---+---------+----------------+---------------+----------------------+--------+---------------+------------+----------------+------------+\n",
      "|salary_in_usd|employee_residence|experience_level|id |work_year|experience_level|employment_type|job_title             |salary  |salary_currency|remote_ratio|company_location|company_size|\n",
      "+-------------+------------------+----------------+---+---------+----------------+---------------+----------------------+--------+---------------+------------+----------------+------------+\n",
      "|450000.0     |US                |middle          |33 |2020     |MI              |FT             |Research Scientist    |450000.0|USD            |0           |US              |M           |\n",
      "|412000.0     |US                |senior          |63 |2020     |SE              |FT             |Data Scientist        |412000.0|USD            |100         |US              |L           |\n",
      "|450000.0     |US                |middle          |97 |2021     |MI              |FT             |Financial Data Analyst|450000.0|USD            |100         |US              |L           |\n",
      "+-------------+------------------+----------------+---+---------+----------------+---------------+----------------------+--------+---------------+------------+----------------+------------+\n",
      "\n"
     ]
    }
   ],
   "source": [
    "df_final.show(df_final.count(),truncate=False)"
   ]
  },
  {
   "cell_type": "markdown",
   "id": "variable-moore",
   "metadata": {},
   "source": [
    "last task is to save in variable and then print this variable of the biggest salary_in_usd from df_final"
   ]
  },
  {
   "cell_type": "code",
   "execution_count": 37,
   "id": "individual-institution",
   "metadata": {},
   "outputs": [
    {
     "name": "stdout",
     "output_type": "stream",
     "text": [
      "450000.0\n"
     ]
    }
   ],
   "source": [
    "max_salary_in_usd = df_final.select(max(\"salary_in_usd\")).collect()[0][0]\n",
    "print(max_salary_in_usd)"
   ]
  },
  {
   "cell_type": "markdown",
   "id": "stopped-procedure",
   "metadata": {},
   "source": [
    "It is the end of PySpark basics. In other lessons you will learn optimizations technics and how to make distributed system"
   ]
  }
 ],
 "metadata": {
  "kernelspec": {
   "display_name": "Python 3",
   "language": "python",
   "name": "python3"
  },
  "language_info": {
   "codemirror_mode": {
    "name": "ipython",
    "version": 3
   },
   "file_extension": ".py",
   "mimetype": "text/x-python",
   "name": "python",
   "nbconvert_exporter": "python",
   "pygments_lexer": "ipython3",
   "version": "3.10.12"
  }
 },
 "nbformat": 4,
 "nbformat_minor": 5
}
